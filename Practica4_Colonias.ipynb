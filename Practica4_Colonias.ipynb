{
 "cells": [
  {
   "cell_type": "markdown",
   "id": "3d57d457",
   "metadata": {},
   "source": [
    "\n",
    "# Práctica 4: Metaheurísticas basadas en poblaciones - Sistemas de Colonias de Hormigas"
   ]
  },
  {
   "cell_type": "markdown",
   "id": "dc9d72a9",
   "metadata": {},
   "source": [
    "<center><h3>\n",
    "    Nerea Freiría Alonso\n",
    "</h3></center>\n"
   ]
  },
  {
   "cell_type": "markdown",
   "id": "8087aede",
   "metadata": {},
   "source": [
    "## Instrucciones"
   ]
  },
  {
   "cell_type": "markdown",
   "id": "a351019b",
   "metadata": {},
   "source": [
    "Esto es **Jupyter Notebook**, un documento que integra código Python en un archivo Markdown.\n",
    "Esto nos permite ir ejecutando celdas de código poco a poco, así como generar automáticamente un informe bien formateado de la práctica.\n",
    "\n",
    "Puedes añadir una celda con el botón **\"Insert\"** de la barra de herramentas, y cambiar su tipo con **\"Cell > Cell Type\"**\n",
    "\n",
    "Para ejecutar una celda de código, la seleccionaremos y pulsaremos el botón **\"▶ Run\"** de la barra de herramentas.\n",
    "Para pasar el documento a HTML, seleccionaremos **\"File > Download as > HTML (.html)\"**\n",
    "\n",
    "Sigue este guión hasta el final. Ejecuta el código proporcionado paso a paso comprendiendo lo que estás haciendo y reflexionando sobre los resultados. Habrá preguntas intercaladas a lo largo del guión, responde a todas ellas en la sección reservada para ese fin: **\"Respuestas a los cuestionarios\"**. Por favor, no modifiques ninguna linea de código excepto cuando se te pida explícitamente.\n",
    "\n",
    "No olvides insertar tu **nombre y apellidos** en la celda superior.\n",
    "\n",
    "IMPORTANTE: Escribe el código de tu o tus soluciones/respuestas en las celdas que se indican para ello. Además, a lo largo de la práctica se plantearán varias preguntas que debéis responder en la parte inferior del documento, incluyendo las celdas que veáis necesarias (si hacéis referencia a partes concretas de vuestro código, etc) para reponder a ellas."
   ]
  },
  {
   "cell_type": "markdown",
   "id": "3c804f80",
   "metadata": {},
   "source": [
    "## Entrega de la práctica"
   ]
  },
  {
   "cell_type": "markdown",
   "id": "797d20ec",
   "metadata": {},
   "source": [
    "La fecha límite de entrega será la indicada en el Campus Virtual. La entrega consistirá de un único archivo comprimido con nombre `APELIDOS_NOME_Colonias.zip` que contenga los seguientes ficheros:\n",
    "\n",
    " * `APELIDOS_NOME_Colonias.html`: Archivo HTML fruto de la exportación del presente Notebook, con las preguntas respondidas al final del documento.\n",
    " * `APELIDOS_NOME_Colonias.ipynb`: Archivo fuente Jupyter Notebook.\n",
    " * Archivo de datos de los problema utilizados en la resolución."
   ]
  },
  {
   "cell_type": "markdown",
   "id": "f73d01d4",
   "metadata": {},
   "source": [
    "## El Problema del Viajante de Comercio (VC) con Sistemas de Colonias de Hormigas\n",
    "\n",
    "El objetivo de esta práctica es modelar e implementar un agente inteligente que sea capaz de resolver\n",
    "el problema del VC mediante la metaheurística (MH) de algoritmos para sistemas de colonias de\n",
    "hormigas (ACS, *Ant Colony Systems*, del inglés).\n",
    "\n",
    "Para ello, realizarás una implementación del algoritmo básico visto en la clase expositiva y valorarás algunos de los parámetros de diseño del algoritmo en relación a la calidad de las soluciones alcanzadas."
   ]
  },
  {
   "cell_type": "markdown",
   "id": "3a2d6367",
   "metadata": {},
   "source": [
    "Recuerda que debes importar el módulo Python que acompaña esta práctica, que como ocurría en prácticas anteriores implementa la carga de datos y el cálculo de distancias utilizando una matriz de adyacencia de acuerdo a la definición del problema ya vista."
   ]
  },
  {
   "cell_type": "code",
   "execution_count": 1,
   "id": "7e422090",
   "metadata": {},
   "outputs": [
    {
     "name": "stdout",
     "output_type": "stream",
     "text": [
      "55.88273580792048\n"
     ]
    },
    {
     "data": {
      "text/plain": [
       "8"
      ]
     },
     "execution_count": 1,
     "metadata": {},
     "output_type": "execute_result"
    }
   ],
   "source": [
    "from helpers_mod_aco import *\n",
    "\n",
    "g1=Localizaciones(filename='./data/grafo8cidades.txt')\n",
    "g2= Localizaciones(filename='./data/US120.txt')\n",
    "# distancia entre ciudad 0 y 1 son unos 55 km\n",
    "print (g1.distancia(0,1))\n",
    "g1.nciudades"
   ]
  },
  {
   "cell_type": "markdown",
   "id": "045122c3",
   "metadata": {},
   "source": [
    "\n",
    "## P4.1: Implementación de Sistemas de Colonias de Hormigas (SCH)\n"
   ]
  },
  {
   "cell_type": "markdown",
   "id": "8c6767c6",
   "metadata": {},
   "source": [
    "Implementa el algoritmo de sistemas de colonia de hormigas que materializa la MH vista en la sesión expositiva y revisar las notas particulares para el problema de VC. Para facilitar vuestra labor, se os proporciona aquí una descripción algorítmica de referencia.\n"
   ]
  },
  {
   "cell_type": "markdown",
   "id": "59758b1f",
   "metadata": {},
   "source": [
    "\n",
    "1. Establecer parámetros: G, m, q<sub>0</sub>, τ<sub>0</sub>, ρ, 𝛏, iter<sub>min</sub>, iter<sub>max</sub>, iter<sub>sinmejoras</sub>, ratio<sub>mejora</sub>\n",
    "\n",
    "2. Inicializar pistas de feromonas: ∀ i, j τ<sub>ij</sub> = τ<sub>0</sub>\n",
    "\n",
    "3. HACER\n",
    "\n",
    "    3.1. PARA cada hormiga k en colonia m HACER\n",
    "        3.1.1.construir una solución para k siguiendo la regla de decisión a cada paso:\n",
    "              \n",
    "$$\n",
    "j=\n",
    "\\begin{cases}\n",
    "argmax_{l\\in N_i^k} \\{ [\\tau_{il}]^\\alpha [\\eta_{il}]^\\beta \\}, \\text{if } q \\leq q_0;\\\\\n",
    "J, \\text{en otro caso;}\n",
    "\\end{cases}\n",
    "$$\n",
    "              \n",
    "    , donde J es la exploración dirigida por:\n",
    "              \n",
    "$$ p_{ij}^{k} = \\frac{[\\tau_{ij}]^\\alpha [\\eta_{ij}]^\\beta}{\\sum_{l\\in N_i^k} [\\tau_{il}]^\\alpha [\\eta_{il}]^\\beta},    \\text{if } j\\in N_i^k $$\n",
    "\n",
    "      3.1.2. (opcional) Aplicar actualización de feromona local/online con la regla:\n",
    "$$ τ_{ij} ← (1 - 𝛏) τ_{ij} + 𝛏 τ_{0} $$\n",
    "    \n",
    "    3.2. FPARA \n",
    "        \n",
    "    3.3. Evalúa soluciones en la colonia m y registrar la mejor solución hasta el momento T<sup>bs</sup>.\n",
    "\n",
    "    3.4. Aplicar actualización de feromona global/offline con la regla:\n",
    "\n",
    "$$τ_{ij} ← (1-ρ) τ_{ij} + ρ Δτ_{ij}^{bs}, ∀(i, j) ∈T^{bs}$$\n",
    "\n",
    "4. HASTA cumplir la condición de parada\n"
   ]
  },
  {
   "cell_type": "markdown",
   "id": "4357cfa1",
   "metadata": {},
   "source": [
    "\n",
    "La implementación debe permitir la inicialización de los parámetros y estructuras de información asociadas como sigue:\n",
    "- Probabilidad de explotación q<sub>0</sub>=0.5.\n",
    "\n",
    "\n",
    "- Inicialización de la información heurística: η<sub>ij</sub>=1/d<sub>ij</sub>, ∀(i, j), donde d<sub>ij</sub> es la distancia directa entre las ciudades *i* y *j*.\n",
    "\n",
    "\n",
    "- Inicialización de las pistas de feromonas (depósito inicial): τ<sub>ij</sub>= τ<sub>0</sub>= 1 /(n C<sup>NN</sup>) ∀(i, j) donde n es el número de ciudades y C<sup>NN</sup> es el coste del tour generado siguiendo una estrategia voraz del vecino más próximo (NN, *Nearest Neighbour*).\n",
    "\n",
    "\n",
    "- Parámetros de influencia de las pistas de feromonas (α) e información heurística (β) en la regla de decisión establecidos a 1 y 3 respectivamente\n",
    "\n",
    "\n",
    " \n",
    "- Ratio de evaporación de feromona: deberás probar con diferentes magnitudes (p.ej., ρ=0.01, ρ=0.1 y ρ=0.5)\n",
    "\n",
    "\n",
    "\n",
    "- Actualización de feromona global con depósito elitista basado en la mejor solución (bs, *best solution*):τ<sub>ij</sub> ← (1-ρ) τ<sub>ij</sub> + ρ Δτ<sub>ij</sub><sup>bs</sup>, ∀(i, j) ∈T<sup>bs</sup>, donde Δτ<sub>ij</sub><sup>bs</sup>=1/C<sup>bs</sup>\n",
    "\n",
    "\n",
    "\n",
    "- Actualización de feromona local siguiendo la regla:τ<sub>ij</sub> ← (1- 𝛏) τ<sub>ij</sub> + 𝛏 τ<sub>0</sub>, con 𝛏=0.1\n",
    "\n",
    "\n",
    "\n",
    "- Condición de parada que de manera combinada tenga en cuenta iter<sub>min</sub>, iter<sub>max</sub>, iter <sub>sinmejoras</sub>, ratio<sub>mejora</sub>\n",
    "\n",
    "\n",
    "\n",
    "- La implementación debe ser completamente parametrizable, de forma que todos los componentes susceptibles de ser ajustados mediante parámetros puedan ser establecidos en cada ejecución/problema, y que puedas modificar la inicialización heurística y de pistas de feromona, puedas fácilmente reemplazar las reglas de actualización de feromonas, activar/desactivar la actualización local de actualización de feromona, etc."
   ]
  },
  {
   "cell_type": "code",
   "execution_count": 135,
   "id": "19303208",
   "metadata": {},
   "outputs": [],
   "source": [
    "import random"
   ]
  },
  {
   "cell_type": "code",
   "execution_count": 252,
   "id": "c2a6a077",
   "metadata": {},
   "outputs": [],
   "source": [
    "def ini_matriz(g):\n",
    "    N=[[0 for i in range(g.nciudades)] for j in range(g.nciudades)]\n",
    "    for i in range (g.nciudades):\n",
    "        for j in range (g.nciudades):\n",
    "            aux=g.distancia(i,j)\n",
    "            if(i!=j):\n",
    "                N[i][j]=1/aux\n",
    "    return N\n",
    "\n",
    "def coste(g, solucion):\n",
    "    coste=0\n",
    "    solucion_aux=[0]+solucion+[0]\n",
    "    for i in range(len(solucion_aux)-1):\n",
    "        coste+=g.distancia(solucion_aux[i],solucion_aux[i+1])\n",
    "    return coste\n",
    "\n",
    "def inicializar_feromonas(g):\n",
    "    solucion=[0] #añadimos el nodo inicial a la solucion\n",
    "    #creamos una lista con los nodos del grafo\n",
    "    nodos=[x for x in range(1,g.nciudades)]\n",
    "    \n",
    "    #creamos un bucle para que se repita hasta que la lista de nodos este vacia\n",
    "    while len(nodos)>0:\n",
    "        #creamos una variable para almacenar el nodo mas cercano\n",
    "        nodo_cercano=nodos[0]\n",
    "        #creamos una variable para almacenar la distancia del nodo mas cercano\n",
    "        distancia_cercana=g.distancia(solucion[-1],nodos[0])\n",
    "        #creamos un bucle para recorrer la lista de nodos\n",
    "        for nodo in nodos:\n",
    "            #comprobamos si la distancia del nodo actual es menor que la del nodo mas cercano\n",
    "            if g.distancia(solucion[-1],nodo)<distancia_cercana:\n",
    "                #si es asi actualizamos la distancia mas cercana y el nodo mas cercano\n",
    "                distancia_cercana=g.distancia(solucion[-1],nodo)\n",
    "                nodo_cercano=nodo\n",
    "        #añadimos el nodo mas cercano a la solucion\n",
    "        solucion.append(nodo_cercano)\n",
    "        #eliminamos el nodo mas cercano de la lista de nodos\n",
    "        nodos.remove(nodo_cercano)\n",
    "  \n",
    "    #eliminamos el primer 0\n",
    "    solucion.pop(0)\n",
    "   \n",
    "    feromonas=[[0 for i in range(g.nciudades)] for j in range(g.nciudades)]\n",
    "    aux=1/(g.nciudades*coste(g, solucion))\n",
    "    for i in range( g.nciudades):\n",
    "        for j in range(g.nciudades):\n",
    "            feromonas[i][j]=aux\n",
    "    return feromonas,aux\n",
    "\n",
    "\n",
    "def actualizacion_feromonas_global(matrizFeromonas, solucion,ratioEvap, g):\n",
    "    mejorSolucion = (solucion[0]+[0],solucion[1])\n",
    "    Cbs=mejorSolucion[1]\n",
    "    Tbs=1/Cbs\n",
    "    for i in range(len(mejorSolucion[0])-1):\n",
    "        matrizFeromonas[mejorSolucion[0][i]][mejorSolucion[0][i+1]]=((1-ratioEvap)* matrizFeromonas[mejorSolucion[0][i]][mejorSolucion[0][i+1]])+(ratioEvap*Tbs)\n",
    "    return matrizFeromonas\n",
    "\n",
    "\n",
    "\n",
    "def actualizar_feromonas_local(feromonas, solucioni, solucionj, t0, xi):\n",
    "    #actualizamos la funcionalidad de las feromonas  local con la siguiente formula τij ← (1- 𝛏) τij + 𝛏 τ0, con 𝛏=0.1\n",
    "    feromonas[solucioni][solucionj]=(1-xi)* feromonas[solucioni][solucionj]+xi*t0\n",
    "    return feromonas\n",
    "    \n",
    "\n",
    "#funcion que seleciona la siugiente ciudad a visitar de la hormiga segun la regla de transicion\n",
    "def seleccionar_siguiente_ciudad(N, feromonas, solucion, alpha, beta,g):\n",
    "    \n",
    "    nodos=[x for x in range(g.nciudades)]\n",
    "    for nodo in solucion:\n",
    "        nodos.remove(nodo)\n",
    "        \n",
    "    probabilidades=[]\n",
    "    for nodo in nodos:\n",
    "        probabilidades.append((nodo,(feromonas[solucion[-1]][nodo]**alpha)*(N[solucion[-1]][nodo]**beta)))\n",
    "\n",
    "    nodo_seleccionado=sorted(probabilidades, key=lambda x:x[1], reverse=True)[0][0]\n",
    "    #devolvemos el nodo seleccionado\n",
    "    return nodo_seleccionado\n",
    "\n",
    "\n",
    "def exploracion_dirigida(N, feromonas, solucion, alpha, beta,g):\n",
    "    #creamos una lista con los nodos del grafo\n",
    "    nodos=[x for x in range(g.nciudades)]\n",
    "    numerador=[]\n",
    "\n",
    "    for nodo in solucion:\n",
    "        nodos.remove(nodo)\n",
    "    \n",
    "    for nodo in nodos:\n",
    "        numerador.append((nodo,(feromonas[solucion[-1]][nodo]**alpha)*(N[solucion[-1]][nodo]**beta)))\n",
    "        \n",
    "    resu=[]\n",
    "    suma= sum([x[1] for x in numerador])\n",
    "    \n",
    "    for num in numerador:\n",
    "        resu.append((num[0],num[1]/suma))\n",
    "               \n",
    "    prob= random.uniform(0,1)   \n",
    "    actual=0\n",
    "    for re in resu:\n",
    "        actual += re[1]\n",
    "        if(actual> prob):\n",
    "            return re[0]\n",
    "        \n",
    "    return re[-1]\n",
    "\n",
    "def mejor_solucion(soluciones, g):\n",
    "    sol_costes=[]\n",
    "    for i in soluciones:\n",
    "        sol_costes.append((i, coste(g, i)));\n",
    "        \n",
    "\n",
    "    mejor_solucion=sorted(sol_costes,key=lambda x:x[1])[0]\n",
    "\n",
    "    return mejor_solucion;\n",
    "\n",
    "    \n",
    "def colonia_hormigas(g, m_hormigas, ratioMejora,minIter, maxIter, noMejorasIter,xi=0.1,  ratioEvap=0.1, q0=0.5,alpha=1, beta=3):\n",
    "    N=ini_matriz(g)\n",
    "    feromonas, t0 =inicializar_feromonas(g)\n",
    "    iteracion=0\n",
    "    noMejoras=0\n",
    "    ratio=math.inf\n",
    "\n",
    "    mej_sol=[[], math.inf]\n",
    "    mej_sol_aux=[[], math.inf]\n",
    "    \n",
    "    while (iteracion < minIter) or (iteracion < maxIter and noMejoras<noMejorasIter and ratio>ratioMejora):\n",
    "        \n",
    "        \n",
    "        solucion=[[0] for i in range(m_hormigas)]\n",
    "        \n",
    "        iteracion+=1\n",
    "        for sig_ciudad in range(g.nciudades-1):\n",
    "            \n",
    "            for k in range(m_hormigas):\n",
    "                #construímos la solución de la hormiga  según probabilidad\n",
    "                if random.uniform(0,1)<=q0:\n",
    "                    # Explotacion - intensificacion - monotono - convergente - optimizacion\n",
    "                    j=seleccionar_siguiente_ciudad(N, feromonas, solucion[k], alpha, beta,g)\n",
    "                else:\n",
    "                     #realizamos exploración dirigida - exploracion - estocastico\n",
    "                    j=exploracion_dirigida(N, feromonas, solucion[k], alpha, beta, g)\n",
    "                    \n",
    "                solucion[k].append(j)\n",
    "            \n",
    "                #aplicmos la regla de actualización de feromonas local\n",
    "                feromonas=actualizar_feromonas_local(feromonas, solucion[k][-2],solucion[k][-1], t0, xi)\n",
    "   \n",
    "        #actualizamos feromonas del 0 final\n",
    "        for k in range(m_hormigas):\n",
    "            actualizar_feromonas_local(feromonas,solucion[k][-1], 0, t0,xi)\n",
    "        \n",
    "        \n",
    "        \n",
    "        \n",
    "        #escogemos la mejor solucion\n",
    "        mej_sol_aux= mejor_solucion(solucion, g)    \n",
    "        if(mej_sol[1] > mej_sol_aux[1]):\n",
    "            mej_sol=mej_sol_aux\n",
    "            noMejoras=0\n",
    "            if(len(mej_sol[0])!=0):\n",
    "                ratio=(- mej_sol_aux[1]+  mej_sol[1])/mej_sol[1]\n",
    "         \n",
    "     \n",
    "        \n",
    "        noMejoras+=1\n",
    "        #actualizamos feromona global\n",
    "        feromonas=actualizacion_feromonas_global(feromonas, mej_sol, ratioEvap,g1)\n",
    "\n",
    "    return mej_sol\n"
   ]
  },
  {
   "cell_type": "markdown",
   "id": "a981c2f1",
   "metadata": {},
   "source": [
    "❓ **Pregunta 1**. Explica brevemente los detalles relevantes de tu código para entender tu implementación (p.ej., estructura de tu código, funciones, implementación de operadores, etc.). Explica también cómo has realizado la verificación de tu implementación."
   ]
  },
  {
   "cell_type": "markdown",
   "id": "0353b4de",
   "metadata": {},
   "source": [
    "Para este código se han utilizado diversas funciones auxiliares para así modularizar más el código y a su vez, hacer que sea más fácil de leer.\n",
    "Las funciones son:\n",
    "- **ini_matriz**:inicializa la matriz de heurísticos, se le proporciona las ciudades y devuelve la matriz heurística.\n",
    "- **coste(g, solucion)**: función que calcula el coste asociado a una solución, los parámetros son las ciudades y la solución de la que se quiere calcular el coste, devuelve coste.\n",
    "- **def inicializar_feromonas(g):**: calcula la solución voraz e inicializa la matriz de feromonas, solo se le pasa como parámetro la lista de localizaciones y devuelve la matriz de feromonas y el coste del camino de la solución voraz\n",
    "- **actualizacion_feromonas_global(matrizFeromonas, solucion,ratioEvap, g)**: la función realiza la actualización de la martiz de feromonas a nivel global, cuando la solución de la hormiga está completa. Se le tiene que pasar 4 parámetros, la matriz de feromonas, la solución que obtiene la hormiga el ratio de evaporación e la lista delas localidades\n",
    "- **actualizar_feromonas_local(feromonas, solucioni, solucionj, t0, xi)**: tieen la misma funcionalidad uqe la actualización de feromonas global pero se utiliza durate la eleccion de lsa ciudades siguentes a las hormigas. Los par´metros que se le pasan son: matriz de feromonas, la ciudd desde la qeu se parte, la ciudad a la que se llega, t0 (inversa del coste de la solución voraz), y xi.\n",
    "- **seleccionar_siguiente_ciudad(N, feromonas, solucion, alpha, beta,g)**: fucnión de explotación dirigida, se le debe pasar la matriz de heurísticos, la de feromonas, la solución parcial, el valor de alfa y beta y, por último, las localizacioens.\n",
    "- **exploracion_dirigida(N, feromonas, solucion, alpha, beta,g)**: fucnión de exploración dirigida, se le pasan los mismos argumentos que a la de expltoación.\n",
    "- **mejor_solucion(soluciones, g):**: función para obtener la mejor solución dadas varias de ellas, se le pasan las localizaciones y devuelve la solución y el coste asociado a ella.\n",
    "- **colonia_hormigas(g, m_hormigas, ratioMejora,minIter, maxIter, noMejorasIter,xi=0.1,  ratioEvap=0.1, q0=0.5,alpha=1, beta=3)** : algoritmo principal el cual contendrá:\n",
    "    - Condición de parda: dada por el núimero mínimo de iteraciones. si llega al mínimo se valorarán otros aspectos como: maximo de iteracciones, que el ratio de mejora sea inferior al dado en los argumentos y que el nnúmero de iteraciones sin mejora sea inferior al proporcionado.\n",
    "    - Otro de los aspectos importantes en este código es que hay dos formas de geerar la siguiente ciudad, explorando o explotando, y vendrá dado de forma aleatoria y posuirá una probabilidad de explotación determinada por el parámetro de q0."
   ]
  },
  {
   "cell_type": "markdown",
   "id": "beb24520",
   "metadata": {},
   "source": [
    "## P4.2: Laboratorio"
   ]
  },
  {
   "cell_type": "markdown",
   "id": "c5759880",
   "metadata": {},
   "source": [
    "Realiza los laboratorios planteados a continuación para estudiar los efectos de los parámetros de la metaheurística. Para esta práctica, reporta también el coste temporal promedio de resolución."
   ]
  },
  {
   "cell_type": "markdown",
   "id": "7514536e",
   "metadata": {},
   "source": [
    "❓ **Pregunta 2**. Realiza el estudio de la calidad de la solución variando el tamaño de la colonia: 1, 2, 4, 8, 16, 32, 64, 128,... ¿Qué valor recomendarías para el problema de las 120 ciudades? ¿Por qué? \n",
    "\n",
    "❓ **Pregunta 3**. Ahora realiza un estudio similar variando la probabilidad de explotación q<sub>0</sub> en el rango 0, ..., 0.95 en pasos de 0.05~0.10. ¿Qué valor recomendarías para este parámetro? ¿Por qué?\n",
    "\n",
    "❓ **Pregunta 4**. Estudia la influencia de pistas de feromonas e información heurística: α=1; β=2, ..., 5. ¿Qué valor de α y β recomendarías? ¿Por qué?\n",
    "\n",
    "❓ **Pregunta 5**. Finalmente, argumenta de manera crítica las diferencias y similitudes con la metaheurísticas vistas hasta el momento en las interactivas/prácticas anteriores. Discute críticamente acerca de las bondades y limitaciones de las técnicas. Por ejemplo: ¿Eres capaz de resolver instancias de diferente tamaño? ¿Con cuál estás obteniendo mejores soluciones? ¿Cuál parece tener más limitaciones en términos de tiempo de ejecución necesario? ¿Te quedarías con una de las Metaheurísticas en vista de los resultados obtenidos? ¿Cuál/es y por qué?\n",
    "\n",
    "\n"
   ]
  },
  {
   "cell_type": "code",
   "execution_count": null,
   "id": "2529f9ae",
   "metadata": {},
   "outputs": [],
   "source": []
  },
  {
   "cell_type": "markdown",
   "id": "473d3230",
   "metadata": {},
   "source": [
    "## Pregunta 2"
   ]
  },
  {
   "cell_type": "code",
   "execution_count": 210,
   "id": "8d8a61e5",
   "metadata": {
    "scrolled": true
   },
   "outputs": [
    {
     "data": {
      "application/vnd.jupyter.widget-view+json": {
       "model_id": "f373397ea94f4b0a8c7c54dfc76ec3aa",
       "version_major": 2,
       "version_minor": 0
      },
      "text/plain": [
       "  0%|          | 0/5 [00:00<?, ?it/s]"
      ]
     },
     "metadata": {},
     "output_type": "display_data"
    },
    {
     "data": {
      "application/vnd.jupyter.widget-view+json": {
       "model_id": "385a4d9c207b43ae948d844f2dc0bce4",
       "version_major": 2,
       "version_minor": 0
      },
      "text/plain": [
       "  0%|          | 0/5 [00:00<?, ?it/s]"
      ]
     },
     "metadata": {},
     "output_type": "display_data"
    },
    {
     "data": {
      "application/vnd.jupyter.widget-view+json": {
       "model_id": "d28b324b1757405a8ef6cf0964026974",
       "version_major": 2,
       "version_minor": 0
      },
      "text/plain": [
       "  0%|          | 0/5 [00:00<?, ?it/s]"
      ]
     },
     "metadata": {},
     "output_type": "display_data"
    },
    {
     "data": {
      "application/vnd.jupyter.widget-view+json": {
       "model_id": "c853367dea9447f392d1abfe24a118dd",
       "version_major": 2,
       "version_minor": 0
      },
      "text/plain": [
       "  0%|          | 0/5 [00:00<?, ?it/s]"
      ]
     },
     "metadata": {},
     "output_type": "display_data"
    },
    {
     "data": {
      "application/vnd.jupyter.widget-view+json": {
       "model_id": "8e6ead2bf15943dd92b516ea8890a5b0",
       "version_major": 2,
       "version_minor": 0
      },
      "text/plain": [
       "  0%|          | 0/5 [00:00<?, ?it/s]"
      ]
     },
     "metadata": {},
     "output_type": "display_data"
    },
    {
     "data": {
      "application/vnd.jupyter.widget-view+json": {
       "model_id": "1cf155ff5357468aa619e6d1c2b27be6",
       "version_major": 2,
       "version_minor": 0
      },
      "text/plain": [
       "  0%|          | 0/5 [00:00<?, ?it/s]"
      ]
     },
     "metadata": {},
     "output_type": "display_data"
    },
    {
     "data": {
      "application/vnd.jupyter.widget-view+json": {
       "model_id": "3217220404894a478a18a54b86f07893",
       "version_major": 2,
       "version_minor": 0
      },
      "text/plain": [
       "  0%|          | 0/5 [00:00<?, ?it/s]"
      ]
     },
     "metadata": {},
     "output_type": "display_data"
    },
    {
     "data": {
      "application/vnd.jupyter.widget-view+json": {
       "model_id": "5ced3c478da54147951bd9773f7cad15",
       "version_major": 2,
       "version_minor": 0
      },
      "text/plain": [
       "  0%|          | 0/5 [00:00<?, ?it/s]"
      ]
     },
     "metadata": {},
     "output_type": "display_data"
    }
   ],
   "source": [
    "from tqdm.notebook import trange\n",
    "colonias=[2,4,8,16,32,64,128,256]\n",
    "soluciones_colonias=[]\n",
    "sol=[]\n",
    "sol_media=[]\n",
    "sol_min=[]\n",
    "for col in colonias:\n",
    "    for i in trange(5):\n",
    "        soluciones_colonias.append(colonia_hormigas(g2, col, 0.001,500 ,2000, 100)[1])\n",
    "    sol.append((col, sum(soluciones_colonias)/5))\n",
    "    soluciones_colonias=[]\n"
   ]
  },
  {
   "attachments": {
    "image.png": {
     "image/png": "[encoded data removed]"
    }
   },
   "cell_type": "markdown",
   "id": "053438df",
   "metadata": {},
   "source": [
    "Como podemos ver en la gráfica el algoritmo de colonias presenta un comportamiento asintótico del coste a mayores tamaños de colonias. Por ello, las mejores soluciones se obtendrán en los tamaños de poblaciones de hormigas mayores. \n",
    "Es importante destacar, que existen ciertos márgenes de ruido presentes debido a la componente de aletoriedad que presenta el algoritmo, por ejemplo, en el 32 tiene un coste bastate más elevado que el de 16 pero, sin embargo, la población de 64 ya sigue la tendencia estándar.\n",
    "\n",
    "Por otra parte, cuanto mayor sea el tamaño de la población de hormigas mayor será el tiempo de ejecución por lo que sería idóneo llegar a un punto intermedio entre coste obtenido y tiempo de ejecución. Para escoger este punto se ha utilizado el método del codo, utilizando por tanto el tamaño de población de 16 hormigas. De esta forma, obtendremos buenos resultados (una media de 25.346 de coste) en un tiempo razonable (para el problema de las 120 ciudades 15 segudos por iteración)\n",
    "\n",
    "Para que la ejecución de las próximas pruebas sea más rápida se utilizará el tamaño de 8 hormigas de la colonia. Al final, se utilizarán todas las elecciones de los parámetros para ver los mejores resultados posibles.\n",
    "\n",
    "Los tiempos de ejecución que han tenido lugar para la realización de este esperimento so los siguientes:\n",
    "![image.png](attachment:image.png)"
   ]
  },
  {
   "cell_type": "code",
   "execution_count": 258,
   "id": "0deeb8c8",
   "metadata": {},
   "outputs": [
    {
     "name": "stdout",
     "output_type": "stream",
     "text": [
      "[(2, 26017.787230290272), (4, 25952.660904350574), (8, 25852.660904350574), (16, 25602.328588617263), (32, 25412.199794455744), (64, 25340.596759690772), (128, 25485.620305281456), (256, 25305.620305281456)]\n"
     ]
    },
    {
     "data": {
      "image/png": "[encoded data removed]",
      "text/plain": [
       "<Figure size 432x288 with 1 Axes>"
      ]
     },
     "metadata": {
      "needs_background": "light"
     },
     "output_type": "display_data"
    }
   ],
   "source": [
    "import matplotlib.pyplot as plt\n",
    "plt.plot(*zip(*sol))\n",
    "print(sol)\n",
    "\n",
    "plt.show()"
   ]
  },
  {
   "attachments": {},
   "cell_type": "markdown",
   "id": "8ceb7864",
   "metadata": {
    "scrolled": true
   },
   "source": [
    "Como podemos ver en la gráfica, el punto cuyo tamaño de colonia corresponde a 125 tiene un coste mayor a otros de ellos. Esto puede resultar debido  ruidos en las muestras ya que solo se realizaron 5 de cada uno de los tamaños "
   ]
  },
  {
   "cell_type": "markdown",
   "id": "a6e8e361",
   "metadata": {},
   "source": [
    "## Pregunta 3"
   ]
  },
  {
   "cell_type": "code",
   "execution_count": 166,
   "id": "abfd8ace",
   "metadata": {
    "scrolled": false
   },
   "outputs": [
    {
     "name": "stdout",
     "output_type": "stream",
     "text": [
      "[0.0, 0.1, 0.2, 0.3, 0.4, 0.5, 0.6, 0.7, 0.8, 0.9, 1.0]\n"
     ]
    },
    {
     "data": {
      "application/vnd.jupyter.widget-view+json": {
       "model_id": "e705f1e2af7e461e80a9b91c16e3b06d",
       "version_major": 2,
       "version_minor": 0
      },
      "text/plain": [
       "  0%|          | 0/3 [00:00<?, ?it/s]"
      ]
     },
     "metadata": {},
     "output_type": "display_data"
    },
    {
     "data": {
      "application/vnd.jupyter.widget-view+json": {
       "model_id": "5e3066e967384d55981b1c4590faa4bb",
       "version_major": 2,
       "version_minor": 0
      },
      "text/plain": [
       "  0%|          | 0/3 [00:00<?, ?it/s]"
      ]
     },
     "metadata": {},
     "output_type": "display_data"
    },
    {
     "data": {
      "application/vnd.jupyter.widget-view+json": {
       "model_id": "03da71cef8784e5b91e25cb821a4214a",
       "version_major": 2,
       "version_minor": 0
      },
      "text/plain": [
       "  0%|          | 0/3 [00:00<?, ?it/s]"
      ]
     },
     "metadata": {},
     "output_type": "display_data"
    },
    {
     "data": {
      "application/vnd.jupyter.widget-view+json": {
       "model_id": "3186c5e7b416475fa89b394a52c9dbf6",
       "version_major": 2,
       "version_minor": 0
      },
      "text/plain": [
       "  0%|          | 0/3 [00:00<?, ?it/s]"
      ]
     },
     "metadata": {},
     "output_type": "display_data"
    },
    {
     "data": {
      "application/vnd.jupyter.widget-view+json": {
       "model_id": "8691ccbaa2f147078b804b90c6ae929b",
       "version_major": 2,
       "version_minor": 0
      },
      "text/plain": [
       "  0%|          | 0/3 [00:00<?, ?it/s]"
      ]
     },
     "metadata": {},
     "output_type": "display_data"
    },
    {
     "data": {
      "application/vnd.jupyter.widget-view+json": {
       "model_id": "0437709d397648e998ed07366954f8e0",
       "version_major": 2,
       "version_minor": 0
      },
      "text/plain": [
       "  0%|          | 0/3 [00:00<?, ?it/s]"
      ]
     },
     "metadata": {},
     "output_type": "display_data"
    },
    {
     "data": {
      "application/vnd.jupyter.widget-view+json": {
       "model_id": "10e84dea2a1b4f9c88ad001b30fb4d20",
       "version_major": 2,
       "version_minor": 0
      },
      "text/plain": [
       "  0%|          | 0/3 [00:00<?, ?it/s]"
      ]
     },
     "metadata": {},
     "output_type": "display_data"
    },
    {
     "data": {
      "application/vnd.jupyter.widget-view+json": {
       "model_id": "6a87ec8f813246afa77bdbe9d0bf698e",
       "version_major": 2,
       "version_minor": 0
      },
      "text/plain": [
       "  0%|          | 0/3 [00:00<?, ?it/s]"
      ]
     },
     "metadata": {},
     "output_type": "display_data"
    },
    {
     "data": {
      "application/vnd.jupyter.widget-view+json": {
       "model_id": "f5618ab7ee4c4a6d945ddfa8838f249a",
       "version_major": 2,
       "version_minor": 0
      },
      "text/plain": [
       "  0%|          | 0/3 [00:00<?, ?it/s]"
      ]
     },
     "metadata": {},
     "output_type": "display_data"
    },
    {
     "data": {
      "application/vnd.jupyter.widget-view+json": {
       "model_id": "5057657aa45e4177a815a725aec7dc39",
       "version_major": 2,
       "version_minor": 0
      },
      "text/plain": [
       "  0%|          | 0/3 [00:00<?, ?it/s]"
      ]
     },
     "metadata": {},
     "output_type": "display_data"
    },
    {
     "data": {
      "application/vnd.jupyter.widget-view+json": {
       "model_id": "d5f9b507673543239a6112066d87e46c",
       "version_major": 2,
       "version_minor": 0
      },
      "text/plain": [
       "  0%|          | 0/3 [00:00<?, ?it/s]"
      ]
     },
     "metadata": {},
     "output_type": "display_data"
    }
   ],
   "source": [
    "expe=[x/100 for x in range(0,110,10)]\n",
    "soluciones_expl=[]\n",
    "sol_expl=[]\n",
    "print(expe)\n",
    "for exp in expe:\n",
    "    for i in trange(3):\n",
    "        soluciones_expl.append((colonia_hormigas(g2, 8, 0.001,500 ,5000, 200,  q0=exp))[1])\n",
    "    sol_expl.append((exp, sum(soluciones_expl)/3))\n",
    "    soluciones_expl=[]"
   ]
  },
  {
   "cell_type": "code",
   "execution_count": 260,
   "id": "dba6d5bf",
   "metadata": {},
   "outputs": [
    {
     "name": "stdout",
     "output_type": "stream",
     "text": [
      "[(0.0, 30093.57044559732), (0.1, 28659.583104716294), (0.2, 28044.702721457677), (0.3, 28050.469821516977), (0.4, 25442.13690178664), (0.5, 25284.07393356071), (0.6, 24626.698354686592), (0.7, 24178.478629279805), (0.8, 23931.91490368488), (0.9, 24040.95341616806), (1.0, 27033.84988200304)]\n"
     ]
    },
    {
     "data": {
      "image/png": "[encoded data removed]",
      "text/plain": [
       "<Figure size 432x288 with 1 Axes>"
      ]
     },
     "metadata": {
      "needs_background": "light"
     },
     "output_type": "display_data"
    }
   ],
   "source": [
    "import matplotlib.pyplot as plt\n",
    "\n",
    "plt.plot(*zip(*sol_expl))\n",
    "print(sol_expl)\n",
    "\n",
    "plt.show()"
   ]
  },
  {
   "attachments": {
    "image.png": {
     "image/png": "[encoded data removed]"
    }
   },
   "cell_type": "markdown",
   "id": "e235cb7c",
   "metadata": {},
   "source": [
    "En este caso, tras realizar las pruebas se puede ver a medida que se va aumentando el valor de q0 también se mejoran los resultados obtenidos ya que es más probable que se explote el camino utilizando la matriz de heurística y la de feromonas. Si nos fijamos tiene un coste lineal descendente hasta alrededor de 0.9 donde pasa a crecer. Los picos son ruido ya que, por los tiempos de ejecución del algoritmo tan elevados imposibilita la realización de pruebas con numerosas repeticiones que eliminarín el ruído.\n",
    "\n",
    "El valor que se optó por escoger es el valor de q0=0.8 ya que es el valor que mejores resultados presenta.\n",
    "Estos resultados vienen determinados ya que esta es la probabilidad de que el algoritmo explore otros vecindarios diferentes a los basados en la solució voraz inicial por lo que, un valor demasiado bajo dejaría demasiado a la aletoriedad. Por otra parte, si el valor es muy alto entonces la solución final alcazada se guiaría demasiado por la solución inicial (greedy) que puede ser peor en muchos casos.\n",
    "\n",
    "Tiempos de ejecución:\n",
    "\n",
    "![image.png](attachment:image.png)"
   ]
  },
  {
   "cell_type": "markdown",
   "id": "66398db9",
   "metadata": {},
   "source": [
    "## Pregunta 4"
   ]
  },
  {
   "cell_type": "code",
   "execution_count": 174,
   "id": "71de0070",
   "metadata": {
    "scrolled": false
   },
   "outputs": [
    {
     "data": {
      "application/vnd.jupyter.widget-view+json": {
       "model_id": "ed8e3db135ae47c481510e5a2fe011e1",
       "version_major": 2,
       "version_minor": 0
      },
      "text/plain": [
       "  0%|          | 0/3 [00:00<?, ?it/s]"
      ]
     },
     "metadata": {},
     "output_type": "display_data"
    },
    {
     "data": {
      "application/vnd.jupyter.widget-view+json": {
       "model_id": "05f87665cf3341919ccb8b60eb976c69",
       "version_major": 2,
       "version_minor": 0
      },
      "text/plain": [
       "  0%|          | 0/3 [00:00<?, ?it/s]"
      ]
     },
     "metadata": {},
     "output_type": "display_data"
    },
    {
     "data": {
      "application/vnd.jupyter.widget-view+json": {
       "model_id": "54646bc1fbec4081853ebd4cab053650",
       "version_major": 2,
       "version_minor": 0
      },
      "text/plain": [
       "  0%|          | 0/3 [00:00<?, ?it/s]"
      ]
     },
     "metadata": {},
     "output_type": "display_data"
    },
    {
     "data": {
      "application/vnd.jupyter.widget-view+json": {
       "model_id": "3e4314a9cd3544dca2c17065faa3536e",
       "version_major": 2,
       "version_minor": 0
      },
      "text/plain": [
       "  0%|          | 0/3 [00:00<?, ?it/s]"
      ]
     },
     "metadata": {},
     "output_type": "display_data"
    },
    {
     "data": {
      "application/vnd.jupyter.widget-view+json": {
       "model_id": "3d3c181191cf484ca46f527b0206ee2a",
       "version_major": 2,
       "version_minor": 0
      },
      "text/plain": [
       "  0%|          | 0/3 [00:00<?, ?it/s]"
      ]
     },
     "metadata": {},
     "output_type": "display_data"
    }
   ],
   "source": [
    "feromA=[1, 2,3,4,5]\n",
    "\n",
    "soluciones_expl=[]\n",
    "por_a=[]\n",
    "\n",
    "for a in feromA:\n",
    "    for i in trange(3):\n",
    "        soluciones_expl.append(colonia_hormigas(g2, 8 , 0.001,500 ,4000, 100, alpha=a, beta=3)[1])\n",
    "        \n",
    "    por_a.append((a, sum(soluciones_expl)/3))"
   ]
  },
  {
   "cell_type": "code",
   "execution_count": 261,
   "id": "502903d0",
   "metadata": {},
   "outputs": [
    {
     "data": {
      "image/png": "[encoded data removed]",
      "text/plain": [
       "<Figure size 432x288 with 1 Axes>"
      ]
     },
     "metadata": {
      "needs_background": "light"
     },
     "output_type": "display_data"
    }
   ],
   "source": [
    "import matplotlib.pyplot as plt\n",
    "\n",
    "plt.plot(*zip(*por_a))\n",
    "\n",
    "plt.show()"
   ]
  },
  {
   "cell_type": "code",
   "execution_count": 187,
   "id": "500b0c57",
   "metadata": {
    "scrolled": true
   },
   "outputs": [
    {
     "data": {
      "application/vnd.jupyter.widget-view+json": {
       "model_id": "5014cfd7cdba4a1b8b6923bceb2c1da1",
       "version_major": 2,
       "version_minor": 0
      },
      "text/plain": [
       "  0%|          | 0/3 [00:00<?, ?it/s]"
      ]
     },
     "metadata": {},
     "output_type": "display_data"
    },
    {
     "data": {
      "application/vnd.jupyter.widget-view+json": {
       "model_id": "15cdb70d75f4436388753d763793d0f9",
       "version_major": 2,
       "version_minor": 0
      },
      "text/plain": [
       "  0%|          | 0/3 [00:00<?, ?it/s]"
      ]
     },
     "metadata": {},
     "output_type": "display_data"
    },
    {
     "data": {
      "application/vnd.jupyter.widget-view+json": {
       "model_id": "a92a0fc60c3c4cb6bb34f1d635318a8b",
       "version_major": 2,
       "version_minor": 0
      },
      "text/plain": [
       "  0%|          | 0/3 [00:00<?, ?it/s]"
      ]
     },
     "metadata": {},
     "output_type": "display_data"
    },
    {
     "data": {
      "application/vnd.jupyter.widget-view+json": {
       "model_id": "97392ba7eb8243089e97c5d563cee40f",
       "version_major": 2,
       "version_minor": 0
      },
      "text/plain": [
       "  0%|          | 0/3 [00:00<?, ?it/s]"
      ]
     },
     "metadata": {},
     "output_type": "display_data"
    },
    {
     "data": {
      "application/vnd.jupyter.widget-view+json": {
       "model_id": "2453bcab5b644a3b8a46d4c3bb91facb",
       "version_major": 2,
       "version_minor": 0
      },
      "text/plain": [
       "  0%|          | 0/3 [00:00<?, ?it/s]"
      ]
     },
     "metadata": {},
     "output_type": "display_data"
    },
    {
     "data": {
      "application/vnd.jupyter.widget-view+json": {
       "model_id": "2053216424604ff98baa16900214f14d",
       "version_major": 2,
       "version_minor": 0
      },
      "text/plain": [
       "  0%|          | 0/3 [00:00<?, ?it/s]"
      ]
     },
     "metadata": {},
     "output_type": "display_data"
    },
    {
     "data": {
      "application/vnd.jupyter.widget-view+json": {
       "model_id": "b73d24f5e0104d25accf04c6ce0d05a7",
       "version_major": 2,
       "version_minor": 0
      },
      "text/plain": [
       "  0%|          | 0/3 [00:00<?, ?it/s]"
      ]
     },
     "metadata": {},
     "output_type": "display_data"
    },
    {
     "data": {
      "application/vnd.jupyter.widget-view+json": {
       "model_id": "43fe7798eca7408d842ea65edfb9d13a",
       "version_major": 2,
       "version_minor": 0
      },
      "text/plain": [
       "  0%|          | 0/3 [00:00<?, ?it/s]"
      ]
     },
     "metadata": {},
     "output_type": "display_data"
    }
   ],
   "source": [
    "feromB=[1,2,3,4,5,6,7,8]\n",
    "soluciones_expl=[]\n",
    "por_b=[]\n",
    "\n",
    "for b in feromB:\n",
    "    for i in trange(3):\n",
    "        soluciones_expl.append(colonia_hormigas(g2, 8 , 0.001,500 ,4000, 100, alpha=1, beta=b)[1])\n",
    "\n",
    "    por_b.append((b, sum(soluciones_expl)/3))\n",
    "    soluciones_expl=[]"
   ]
  },
  {
   "cell_type": "code",
   "execution_count": 262,
   "id": "fa210c53",
   "metadata": {},
   "outputs": [
    {
     "data": {
      "image/png": "[encoded data removed]",
      "text/plain": [
       "<Figure size 432x288 with 1 Axes>"
      ]
     },
     "metadata": {
      "needs_background": "light"
     },
     "output_type": "display_data"
    }
   ],
   "source": [
    "import matplotlib.pyplot as plt\n",
    "\n",
    "plt.plot(*zip(*por_b))\n",
    "\n",
    "plt.show()"
   ]
  },
  {
   "attachments": {
    "image-2.png": {
     "image/png": "[encoded data removed]"
    },
    "image.png": {
     "image/png": "[encoded data removed]"
    }
   },
   "cell_type": "markdown",
   "id": "5a06d4f9",
   "metadata": {},
   "source": [
    "Para la realización de este ejercicio primero se ha fijado el valor de B y se ha modificado el valor de alpha. Des esta forma veremos como afecta el valor de α a los resultados obtenidos y al tiempo de ejecución tomado.\n",
    "Tras ello, se optó por fijar el valor de α y variar el de B con la misma finalidad que lo realizado con anterioridad.\n",
    "\n",
    "Con los resultados obtenidos y viendo las gráficas representadas se puede afirmar que, a menor valor de α mejores resultados se obtienen sin diferencia en el tiempo de ejecución. Esto está determinado ya que, cuiando mayor sea el valor de alpha mayor es el peso que le estamos otorgando a la matriz heurística (al elevar un nñúmero decimal a un número etero, el valor es más pequeño, por lo que los valores de la matriz de feromonas se reduciría).\n",
    "\n",
    "Por otro lado, en el caso de B ocurre que se encuentra un valor mínimo en el punto 3, obteniendose los mejores resultantes en cuanto al coste. \n",
    "\n",
    "Se ha optado por escoger el valor de α=1 y de B= 3 ya que son los que mejores resultados presentan.\n",
    "\n",
    "Ahora se pasará a realizar una prueba fijando los parámetros e las mejores solucioes para ver el mínimo que se puede obtener\n",
    "\n",
    "Para los distintos valores de alfa los tiempos fueron los siguientes:\n",
    "![image.png](attachment:image.png)\n",
    "\n",
    "\n",
    "Para los de B:\n",
    "![image-2.png](attachment:image-2.png)"
   ]
  },
  {
   "cell_type": "code",
   "execution_count": 254,
   "id": "a73702be",
   "metadata": {
    "scrolled": false
   },
   "outputs": [
    {
     "name": "stdout",
     "output_type": "stream",
     "text": [
      "22599.1646309166\n"
     ]
    }
   ],
   "source": [
    "_, costes= colonia_hormigas(g2, 16 , 0.001,500 ,5000, 200, alpha=1, beta=3, q0=0.8)\n",
    "print(costes)"
   ]
  },
  {
   "cell_type": "markdown",
   "id": "60ab1ac8",
   "metadata": {},
   "source": [
    "Como vemos el resultado combinando todos los campos obtenemos con esta implementación costes 22599.17"
   ]
  },
  {
   "cell_type": "markdown",
   "id": "711a3940",
   "metadata": {},
   "source": [
    "## Pregunta 5\n",
    "\n"
   ]
  },
  {
   "cell_type": "markdown",
   "id": "85440abe",
   "metadata": {},
   "source": [
    "Los algoritmos empleados en la clase práctica han sido: **Temple Simulado**, **Búsqueda Tabú**, **Algoritmos genéticos** y, por último, **Sistema de Colonias de Hormigas**.\n",
    "Todos los algoritmos ateriormente descritos permiten realizar pruebas con diferentes tamaños pero algunos de ellos imposibilitaban su utilización para tamaños elevados debido al alto tiempo de ejecución.\n",
    "Por otra parte, los resultados obtenidos cambian de forma muy notable de unos algoritmos a otros. En este apartado se detallarán todos los datos y se analizarán.\n",
    "\n",
    "| Algoritmo| Resulado  |\n",
    "| :- | :-: |\n",
    "| Temple Simulado | 43125.50 |\n",
    "| Búsqueda Tabú |  31023.58 |\n",
    "| Algoritmo Genético | 47005.47 |\n",
    "| Sistema de Colonias de Hormigas | 21000 |\n",
    "\n",
    "Los resultados mostrados son los obtenidos del Temple Simulado que incluye ciertas mejoras como: el cambio en la velocidad de enfriamiento y también cambiando el criterio de selección de las soluciones candidatas. (ya que era los que mejores resultados presentaba). Por otra parte, la búsqueda tabú también incluía dos mejoras: inicialización greedy o voraz y matriz de frecuencias. Además, los parámetros utilizados para todos los algoritmos eran la mejor combinación obtenida en cada una de las prácticas.\n",
    "\n",
    "Como vemos en la tabla comparativa para los resultados del coste obtenidos las mejores soluciones se obtienen sin duda mediante el algoritmo genético, seguida de la búsqueda tabú. Pero, no solo se puede comprar el resultado si no que también habría que realizar una métrica del tiempo que tarda en la ejecución de cada algoritmo. Este valor de ejecución no fue contemplado en las prácticas anteriores por lo que no tendremos un valor cuantitativo pero si se podrían ordenar de la siguiete forma de menor tiempo de ejecució a mayor: Temple simulado, Colonia de Hormigas, Algoritmos genéticos y búsqueda tabú.\n",
    "\n",
    "Podemos ver como el algoritmo de busqueda tabú pese a presentar buenos resultados el tiempo de ejecución es muy elevado por lo que no se recomienda para ejercicios de tamaño elevado.\n",
    "Si nos fijamos en el algoritmo genético vemos como es el que mejores resultados presetena en un tiempo de ejecución, aunque elevado, razonable.\n",
    "Podemos ver un patrón ya que, tanto búsqueda tabú y colonias de hormiga presentan buenos resultados y ambas utilizan una inicialización greedy o voraz. Si bien es cierto que para este problema generan mejores soluciones puede que para otros no ya que dependerá de la buena aproximación de la solución voraz a la solución real.\n",
    "\n",
    "Tras este pequeño estudio comparativo, podemos ver como la mejor solución, pese a presentar tiempos más elevados que el temple simulado, es **sistema de colonias de hormigas** ya que preseta los mejores valores de coste obtenidos comparándolos con los otros 3 algoritmos. Además, la solución aportada se acerca mucho más a la solución real del problema.\n",
    "\n",
    "\n"
   ]
  }
 ],
 "metadata": {
  "kernelspec": {
   "display_name": "Python 3 (ipykernel)",
   "language": "python",
   "name": "python3"
  },
  "language_info": {
   "codemirror_mode": {
    "name": "ipython",
    "version": 3
   },
   "file_extension": ".py",
   "mimetype": "text/x-python",
   "name": "python",
   "nbconvert_exporter": "python",
   "pygments_lexer": "ipython3",
   "version": "3.9.7"
  }
 },
 "nbformat": 4,
 "nbformat_minor": 5
}
